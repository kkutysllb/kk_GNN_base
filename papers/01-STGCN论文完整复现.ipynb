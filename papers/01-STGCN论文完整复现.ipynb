{
 "cells": [
  {
   "cell_type": "markdown",
   "metadata": {},
   "source": [
    "# 01-STGCN论文完整复现\n",
    "\n",
    "一、论文核心思想与原理\n",
    "1. 研究背景与问题\n",
    "交通预测的挑战：传统方法（如ARIMA、SVM）难以捕捉交通数据中的非线性时空依赖，且RNN/LSTM存在训练慢、误差累积等问题。\n",
    "\n",
    "关键需求：高效建模交通网络的图结构（空间特征）和时间序列动态（时间特征）。\n",
    "\n",
    "2. STGCN模型架构\n",
    "核心思想：通过全卷积结构（无RNN）联合建模时空特征。\n",
    "\n",
    "三大模块：\n",
    "\n",
    "- 时空卷积块（ST-Conv Block）：由两个时序卷积层夹着一个图卷积层组成，形成“三明治”结构。\n",
    "\n",
    "- 图卷积（Spatial GCN）：基于谱图理论，使用Chebyshev多项式或一阶近似降低计算复杂度。\n",
    "\n",
    "- 时序卷积（Temporal GCN）：采用门控线性单元（GLU）捕捉动态时间特征，支持并行计算。\n"
   ]
  },
  {
   "cell_type": "code",
   "execution_count": null,
   "metadata": {},
   "outputs": [],
   "source": []
  }
 ],
 "metadata": {
  "kernelspec": {
   "display_name": "kk_gnn_wsl",
   "language": "python",
   "name": "python3"
  },
  "language_info": {
   "name": "python",
   "version": "3.10.16"
  }
 },
 "nbformat": 4,
 "nbformat_minor": 2
}
