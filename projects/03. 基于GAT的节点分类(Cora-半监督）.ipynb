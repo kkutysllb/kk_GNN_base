{
 "cells": [
  {
   "cell_type": "markdown",
   "metadata": {},
   "source": [
    "# 03. 基于GAT的节点分类(Cora-半监督）"
   ]
  },
  {
   "cell_type": "code",
   "execution_count": 1,
   "metadata": {},
   "outputs": [
    {
     "name": "stderr",
     "output_type": "stream",
     "text": [
      "/home/libing/miniconda3/envs/kk_gnn_wsl/lib/python3.10/site-packages/torch_geometric/typing.py:86: UserWarning: An issue occurred while importing 'torch-scatter'. Disabling its usage. Stacktrace: /home/libing/miniconda3/envs/kk_gnn_wsl/lib/python3.10/site-packages/torch_scatter/_version_cuda.so: undefined symbol: _ZN5torch3jit17parseSchemaOrNameERKSs\n",
      "  warnings.warn(f\"An issue occurred while importing 'torch-scatter'. \"\n",
      "/home/libing/miniconda3/envs/kk_gnn_wsl/lib/python3.10/site-packages/torch_geometric/typing.py:97: UserWarning: An issue occurred while importing 'torch-cluster'. Disabling its usage. Stacktrace: /home/libing/miniconda3/envs/kk_gnn_wsl/lib/python3.10/site-packages/torch_cluster/_version_cuda.so: undefined symbol: _ZN5torch3jit17parseSchemaOrNameERKSs\n",
      "  warnings.warn(f\"An issue occurred while importing 'torch-cluster'. \"\n",
      "/home/libing/miniconda3/envs/kk_gnn_wsl/lib/python3.10/site-packages/torch_geometric/typing.py:113: UserWarning: An issue occurred while importing 'torch-spline-conv'. Disabling its usage. Stacktrace: /home/libing/miniconda3/envs/kk_gnn_wsl/lib/python3.10/site-packages/torch_spline_conv/_version_cuda.so: undefined symbol: _ZN5torch3jit17parseSchemaOrNameERKSs\n",
      "  warnings.warn(\n",
      "/home/libing/miniconda3/envs/kk_gnn_wsl/lib/python3.10/site-packages/torch_geometric/typing.py:124: UserWarning: An issue occurred while importing 'torch-sparse'. Disabling its usage. Stacktrace: /home/libing/miniconda3/envs/kk_gnn_wsl/lib/python3.10/site-packages/torch_sparse/_version_cuda.so: undefined symbol: _ZN5torch3jit17parseSchemaOrNameERKSs\n",
      "  warnings.warn(f\"An issue occurred while importing 'torch-sparse'. \"\n"
     ]
    },
    {
     "name": "stdout",
     "output_type": "stream",
     "text": [
      "数据集: Cora()\n",
      "图数据: Data(x=[2708, 1433], edge_index=[2, 10556], y=[2708], train_mask=[2708], val_mask=[2708], test_mask=[2708])\n"
     ]
    }
   ],
   "source": [
    "## 1.  数据集\n",
    "\n",
    "from torch_geometric.datasets import Planetoid\n",
    "from torch_geometric.transforms import NormalizeFeatures\n",
    "\n",
    "dataset = Planetoid(root='./dataset', name='Cora', transform=NormalizeFeatures())\n",
    "data = dataset[0]  # 获取第一个图对象\n",
    "\n",
    "print(f'数据集: {dataset}')\n",
    "print(f'图数据: {data}')\n",
    "\n"
   ]
  },
  {
   "cell_type": "code",
   "execution_count": 2,
   "metadata": {},
   "outputs": [
    {
     "name": "stdout",
     "output_type": "stream",
     "text": [
      "GAT(\n",
      "  (conv1): GATConv(1433, 64, heads=8)\n",
      "  (conv2): GATConv(64, 7, heads=1)\n",
      "  (dp): Dropout(p=0.5, inplace=False)\n",
      ")\n"
     ]
    }
   ],
   "source": [
    "## GATConv\n",
    "\n",
    "import torch\n",
    "import torch.nn as nn\n",
    "import torch.nn.functional as F\n",
    "from torch_geometric.nn import GATConv\n",
    "\n",
    "\n",
    "class GAT(nn.Module):\n",
    "    def __init__(self, out_channels=7):\n",
    "        super(GAT, self).__init__()\n",
    "        self.conv1 = GATConv(in_channels=1433, out_channels=64, heads=8, dropout=0.1, concat=False, negative_slope=0.2)\n",
    "        self.conv2 = GATConv(in_channels=64, out_channels=out_channels, heads=1, dropout=0.1, concat=False, negative_slope=0.2)\n",
    "        \n",
    "        self.dp = nn.Dropout(p=0.5)\n",
    "        \n",
    "    def forward(self, x, edge_index):\n",
    "        x = self.conv1(x, edge_index)\n",
    "        x = F.elu(x)\n",
    "        x = self.dp(x)\n",
    "        x = self.conv2(x, edge_index)\n",
    "        return x\n",
    "\n",
    "\n",
    "model = GAT()\n",
    "print(model)"
   ]
  },
  {
   "cell_type": "code",
   "execution_count": 3,
   "metadata": {},
   "outputs": [
    {
     "data": {
      "text/plain": [
       "==========================================================================================\n",
       "Layer (type:depth-idx)                   Output Shape              Param #\n",
       "==========================================================================================\n",
       "GAT                                      [2708, 7]                 --\n",
       "├─GATConv: 1-1                           [2708, 64]                1,088\n",
       "│    └─Linear: 2-1                       [2708, 512]               733,696\n",
       "│    └─SumAggregation: 2-2               [2708, 8, 64]             --\n",
       "├─Dropout: 1-2                           [2708, 64]                --\n",
       "├─GATConv: 1-3                           [2708, 7]                 21\n",
       "│    └─Linear: 2-3                       [2708, 7]                 448\n",
       "│    └─SumAggregation: 2-4               [2708, 1, 7]              --\n",
       "==========================================================================================\n",
       "Total params: 735,253\n",
       "Trainable params: 735,253\n",
       "Non-trainable params: 0\n",
       "Total mult-adds (G): 1.99\n",
       "==========================================================================================\n",
       "Input size (MB): 15.69\n",
       "Forward/backward pass size (MB): 11.24\n",
       "Params size (MB): 2.94\n",
       "Estimated Total Size (MB): 29.87\n",
       "=========================================================================================="
      ]
     },
     "execution_count": 3,
     "metadata": {},
     "output_type": "execute_result"
    }
   ],
   "source": [
    "from torchinfo import summary\n",
    "\n",
    "summary(model, input_data=(data.x, data.edge_index))"
   ]
  },
  {
   "cell_type": "code",
   "execution_count": 7,
   "metadata": {},
   "outputs": [
    {
     "name": "stdout",
     "output_type": "stream",
     "text": [
      "Epoch: 【10/1000】, Loss: 0.0454, Train Acc: 1.0000, Test Acc: 0.7390\n",
      "Epoch: 【20/1000】, Loss: 0.0606, Train Acc: 1.0000, Test Acc: 0.7490\n",
      "Epoch: 【30/1000】, Loss: 0.0712, Train Acc: 1.0000, Test Acc: 0.7360\n",
      "Epoch: 【40/1000】, Loss: 0.0515, Train Acc: 1.0000, Test Acc: 0.7380\n",
      "Epoch: 【50/1000】, Loss: 0.0587, Train Acc: 0.9929, Test Acc: 0.7520\n",
      "Epoch: 【60/1000】, Loss: 0.0430, Train Acc: 1.0000, Test Acc: 0.7500\n",
      "Epoch: 【70/1000】, Loss: 0.0476, Train Acc: 1.0000, Test Acc: 0.7400\n",
      "Epoch: 【80/1000】, Loss: 0.0546, Train Acc: 1.0000, Test Acc: 0.7290\n",
      "Epoch: 【90/1000】, Loss: 0.0438, Train Acc: 1.0000, Test Acc: 0.7520\n",
      "Epoch: 【100/1000】, Loss: 0.0546, Train Acc: 1.0000, Test Acc: 0.7480\n",
      "Epoch: 【110/1000】, Loss: 0.0705, Train Acc: 1.0000, Test Acc: 0.7500\n",
      "Epoch: 【120/1000】, Loss: 0.0423, Train Acc: 1.0000, Test Acc: 0.7450\n",
      "Epoch: 【130/1000】, Loss: 0.0421, Train Acc: 1.0000, Test Acc: 0.7570\n",
      "Epoch: 【140/1000】, Loss: 0.0703, Train Acc: 0.9929, Test Acc: 0.7540\n",
      "Epoch: 【150/1000】, Loss: 0.0785, Train Acc: 0.9857, Test Acc: 0.7320\n",
      "Epoch: 【160/1000】, Loss: 0.0530, Train Acc: 1.0000, Test Acc: 0.7390\n",
      "Epoch: 【170/1000】, Loss: 0.0488, Train Acc: 1.0000, Test Acc: 0.7310\n",
      "Epoch: 【180/1000】, Loss: 0.0901, Train Acc: 1.0000, Test Acc: 0.7540\n",
      "Epoch: 【190/1000】, Loss: 0.0991, Train Acc: 0.9857, Test Acc: 0.7420\n",
      "Epoch: 【200/1000】, Loss: 0.0508, Train Acc: 1.0000, Test Acc: 0.7430\n",
      "Epoch: 【210/1000】, Loss: 0.0671, Train Acc: 1.0000, Test Acc: 0.7490\n",
      "Epoch: 【220/1000】, Loss: 0.0624, Train Acc: 1.0000, Test Acc: 0.7520\n",
      "Epoch: 【230/1000】, Loss: 0.0754, Train Acc: 0.9857, Test Acc: 0.7440\n",
      "Epoch: 【240/1000】, Loss: 0.0717, Train Acc: 1.0000, Test Acc: 0.7460\n",
      "Epoch: 【250/1000】, Loss: 0.0562, Train Acc: 1.0000, Test Acc: 0.7560\n",
      "Epoch: 【260/1000】, Loss: 0.0590, Train Acc: 0.9929, Test Acc: 0.7440\n",
      "Epoch: 【270/1000】, Loss: 0.0530, Train Acc: 1.0000, Test Acc: 0.7560\n",
      "Epoch: 【280/1000】, Loss: 0.0627, Train Acc: 1.0000, Test Acc: 0.7580\n",
      "Epoch: 【290/1000】, Loss: 0.0653, Train Acc: 1.0000, Test Acc: 0.7550\n",
      "Epoch: 【300/1000】, Loss: 0.0509, Train Acc: 1.0000, Test Acc: 0.7520\n",
      "Epoch: 【310/1000】, Loss: 0.0528, Train Acc: 1.0000, Test Acc: 0.7540\n",
      "Epoch: 【320/1000】, Loss: 0.0499, Train Acc: 0.9929, Test Acc: 0.7530\n",
      "Epoch: 【330/1000】, Loss: 0.0539, Train Acc: 1.0000, Test Acc: 0.7390\n",
      "Epoch: 【340/1000】, Loss: 0.0482, Train Acc: 1.0000, Test Acc: 0.7480\n",
      "Epoch: 【350/1000】, Loss: 0.0504, Train Acc: 1.0000, Test Acc: 0.7550\n",
      "Epoch: 【360/1000】, Loss: 0.0571, Train Acc: 1.0000, Test Acc: 0.7540\n",
      "Epoch: 【370/1000】, Loss: 0.0682, Train Acc: 1.0000, Test Acc: 0.7400\n",
      "Epoch: 【380/1000】, Loss: 0.0667, Train Acc: 0.9929, Test Acc: 0.7520\n",
      "Epoch: 【390/1000】, Loss: 0.0679, Train Acc: 0.9929, Test Acc: 0.7500\n",
      "Epoch: 【400/1000】, Loss: 0.0845, Train Acc: 0.9929, Test Acc: 0.7490\n",
      "Epoch: 【410/1000】, Loss: 0.0399, Train Acc: 1.0000, Test Acc: 0.7410\n",
      "Epoch: 【420/1000】, Loss: 0.0605, Train Acc: 1.0000, Test Acc: 0.7360\n",
      "Epoch: 【430/1000】, Loss: 0.0678, Train Acc: 1.0000, Test Acc: 0.7330\n",
      "Epoch: 【440/1000】, Loss: 0.0625, Train Acc: 1.0000, Test Acc: 0.7500\n",
      "Epoch: 【450/1000】, Loss: 0.0395, Train Acc: 1.0000, Test Acc: 0.7550\n",
      "Epoch: 【460/1000】, Loss: 0.0747, Train Acc: 0.9929, Test Acc: 0.7440\n",
      "Epoch: 【470/1000】, Loss: 0.0674, Train Acc: 0.9929, Test Acc: 0.7380\n",
      "Epoch: 【480/1000】, Loss: 0.0507, Train Acc: 1.0000, Test Acc: 0.7460\n",
      "Epoch: 【490/1000】, Loss: 0.0776, Train Acc: 0.9929, Test Acc: 0.7490\n",
      "Epoch: 【500/1000】, Loss: 0.0602, Train Acc: 0.9929, Test Acc: 0.7500\n",
      "Epoch: 【510/1000】, Loss: 0.0609, Train Acc: 1.0000, Test Acc: 0.7410\n",
      "Epoch: 【520/1000】, Loss: 0.0634, Train Acc: 1.0000, Test Acc: 0.7320\n",
      "Epoch: 【530/1000】, Loss: 0.0474, Train Acc: 1.0000, Test Acc: 0.7440\n",
      "Epoch: 【540/1000】, Loss: 0.0557, Train Acc: 1.0000, Test Acc: 0.7460\n",
      "Epoch: 【550/1000】, Loss: 0.0470, Train Acc: 1.0000, Test Acc: 0.7380\n",
      "Epoch: 【560/1000】, Loss: 0.0595, Train Acc: 1.0000, Test Acc: 0.7500\n",
      "Epoch: 【570/1000】, Loss: 0.0381, Train Acc: 1.0000, Test Acc: 0.7370\n",
      "Epoch: 【580/1000】, Loss: 0.0405, Train Acc: 1.0000, Test Acc: 0.7400\n",
      "Epoch: 【590/1000】, Loss: 0.0524, Train Acc: 1.0000, Test Acc: 0.7480\n",
      "Epoch: 【600/1000】, Loss: 0.0528, Train Acc: 1.0000, Test Acc: 0.7310\n",
      "Epoch: 【610/1000】, Loss: 0.0587, Train Acc: 0.9929, Test Acc: 0.7530\n",
      "Epoch: 【620/1000】, Loss: 0.0794, Train Acc: 0.9929, Test Acc: 0.7600\n",
      "Epoch: 【630/1000】, Loss: 0.0626, Train Acc: 1.0000, Test Acc: 0.7510\n",
      "Epoch: 【640/1000】, Loss: 0.0473, Train Acc: 1.0000, Test Acc: 0.7450\n",
      "Epoch: 【650/1000】, Loss: 0.0566, Train Acc: 1.0000, Test Acc: 0.7370\n",
      "Epoch: 【660/1000】, Loss: 0.0776, Train Acc: 0.9929, Test Acc: 0.7560\n",
      "Epoch: 【670/1000】, Loss: 0.0535, Train Acc: 1.0000, Test Acc: 0.7460\n",
      "Epoch: 【680/1000】, Loss: 0.0718, Train Acc: 1.0000, Test Acc: 0.7520\n",
      "Epoch: 【690/1000】, Loss: 0.0499, Train Acc: 1.0000, Test Acc: 0.7400\n",
      "Epoch: 【700/1000】, Loss: 0.0773, Train Acc: 0.9929, Test Acc: 0.7490\n",
      "Epoch: 【710/1000】, Loss: 0.0665, Train Acc: 1.0000, Test Acc: 0.7450\n",
      "Epoch: 【720/1000】, Loss: 0.0808, Train Acc: 0.9857, Test Acc: 0.7410\n",
      "Epoch: 【730/1000】, Loss: 0.0467, Train Acc: 1.0000, Test Acc: 0.7300\n",
      "Epoch: 【740/1000】, Loss: 0.0482, Train Acc: 1.0000, Test Acc: 0.7430\n",
      "Epoch: 【750/1000】, Loss: 0.0552, Train Acc: 1.0000, Test Acc: 0.7480\n",
      "Epoch: 【760/1000】, Loss: 0.0461, Train Acc: 1.0000, Test Acc: 0.7330\n",
      "Epoch: 【770/1000】, Loss: 0.0668, Train Acc: 1.0000, Test Acc: 0.7330\n",
      "Epoch: 【780/1000】, Loss: 0.0448, Train Acc: 1.0000, Test Acc: 0.7340\n",
      "Epoch: 【790/1000】, Loss: 0.0561, Train Acc: 1.0000, Test Acc: 0.7300\n",
      "Epoch: 【800/1000】, Loss: 0.0362, Train Acc: 1.0000, Test Acc: 0.7400\n",
      "Epoch: 【810/1000】, Loss: 0.0509, Train Acc: 1.0000, Test Acc: 0.7460\n",
      "Epoch: 【820/1000】, Loss: 0.0797, Train Acc: 0.9929, Test Acc: 0.7410\n",
      "Epoch: 【830/1000】, Loss: 0.0802, Train Acc: 0.9929, Test Acc: 0.7400\n",
      "Epoch: 【840/1000】, Loss: 0.0500, Train Acc: 1.0000, Test Acc: 0.7570\n",
      "Epoch: 【850/1000】, Loss: 0.0492, Train Acc: 1.0000, Test Acc: 0.7550\n",
      "Epoch: 【860/1000】, Loss: 0.0413, Train Acc: 1.0000, Test Acc: 0.7540\n",
      "Epoch: 【870/1000】, Loss: 0.0408, Train Acc: 1.0000, Test Acc: 0.7440\n",
      "Epoch: 【880/1000】, Loss: 0.0493, Train Acc: 1.0000, Test Acc: 0.7390\n",
      "Epoch: 【890/1000】, Loss: 0.0538, Train Acc: 1.0000, Test Acc: 0.7440\n",
      "Epoch: 【900/1000】, Loss: 0.0534, Train Acc: 1.0000, Test Acc: 0.7320\n",
      "Epoch: 【910/1000】, Loss: 0.0586, Train Acc: 1.0000, Test Acc: 0.7250\n",
      "Epoch: 【920/1000】, Loss: 0.0327, Train Acc: 1.0000, Test Acc: 0.7540\n",
      "Epoch: 【930/1000】, Loss: 0.0509, Train Acc: 1.0000, Test Acc: 0.7450\n",
      "Epoch: 【940/1000】, Loss: 0.0718, Train Acc: 0.9857, Test Acc: 0.7470\n",
      "Epoch: 【950/1000】, Loss: 0.0551, Train Acc: 1.0000, Test Acc: 0.7390\n",
      "Epoch: 【960/1000】, Loss: 0.0607, Train Acc: 1.0000, Test Acc: 0.7480\n",
      "Epoch: 【970/1000】, Loss: 0.0725, Train Acc: 1.0000, Test Acc: 0.7510\n",
      "Epoch: 【980/1000】, Loss: 0.0764, Train Acc: 0.9929, Test Acc: 0.7440\n",
      "Epoch: 【990/1000】, Loss: 0.0586, Train Acc: 0.9929, Test Acc: 0.7490\n",
      "Epoch: 【1000/1000】, Loss: 0.0623, Train Acc: 1.0000, Test Acc: 0.7550\n"
     ]
    }
   ],
   "source": [
    "# 训练和评估\n",
    "\n",
    "import torch.optim as optim\n",
    "import torch.nn.functional as F\n",
    "\n",
    "device = torch.device('cuda' if torch.cuda.is_available() else 'cpu')\n",
    "\n",
    "model = model.to(device)\n",
    "data = data.to(device)\n",
    "\n",
    "optimizer = optim.Adam(model.parameters(), lr=0.01, weight_decay=1e-4)\n",
    "criterion = nn.CrossEntropyLoss()\n",
    "\n",
    "\n",
    "for epoch in range(1000):\n",
    "    # train\n",
    "    model.train()\n",
    "    optimizer.zero_grad()\n",
    "    train_outputs = model(data.x, data.edge_index)\n",
    "    loss = criterion(train_outputs[data.train_mask], data.y[data.train_mask])\n",
    "    loss.backward()\n",
    "    optimizer.step()\n",
    "    \n",
    "    train_preds = train_outputs.argmax(dim=1)\n",
    "    train_correct = train_preds[data.train_mask] == data.y[data.train_mask]\n",
    "    train_acc = int(train_correct.sum()) / int(data.train_mask.sum())\n",
    "\n",
    "    # test\n",
    "    model.eval()\n",
    "    test_outputs = model(data.x, data.edge_index)\n",
    "    test_preds = test_outputs.argmax(dim=1)\n",
    "    test_correct = test_preds[data.test_mask] == data.y[data.test_mask]\n",
    "    test_acc = int(test_correct.sum()) / int(data.test_mask.sum())\n",
    "    \n",
    "    if (epoch+1) % 10 == 0:\n",
    "        print(f'Epoch: 【{epoch+1}/{1000}】, Loss: {loss:.4f}, Train Acc: {train_acc:.4f}, Test Acc: {test_acc:.4f}')\n"
   ]
  }
 ],
 "metadata": {
  "kernelspec": {
   "display_name": "kk_gnn_wsl",
   "language": "python",
   "name": "python3"
  },
  "language_info": {
   "codemirror_mode": {
    "name": "ipython",
    "version": 3
   },
   "file_extension": ".py",
   "mimetype": "text/x-python",
   "name": "python",
   "nbconvert_exporter": "python",
   "pygments_lexer": "ipython3",
   "version": "3.10.16"
  }
 },
 "nbformat": 4,
 "nbformat_minor": 2
}
